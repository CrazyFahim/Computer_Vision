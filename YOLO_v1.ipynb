{
  "nbformat": 4,
  "nbformat_minor": 0,
  "metadata": {
    "colab": {
      "provenance": [],
      "gpuType": "T4"
    },
    "kernelspec": {
      "name": "python3",
      "display_name": "Python 3"
    },
    "language_info": {
      "name": "python"
    },
    "accelerator": "GPU"
  },
  "cells": [
    {
      "cell_type": "code",
      "execution_count": null,
      "metadata": {
        "colab": {
          "base_uri": "https://localhost:8080/"
        },
        "id": "T5S1ozGpYi7e",
        "outputId": "0ea92377-07be-494c-d0aa-c675495bf534"
      },
      "outputs": [
        {
          "output_type": "stream",
          "name": "stdout",
          "text": [
            "\u001b[?25l     \u001b[90m━━━━━━━━━━━━━━━━━━━━━━━━━━━━━━━━━━━━━━━━\u001b[0m \u001b[32m0.0/614.4 kB\u001b[0m \u001b[31m?\u001b[0m eta \u001b[36m-:--:--\u001b[0m\r\u001b[2K     \u001b[91m━━━━━━━━━━━━━\u001b[0m\u001b[90m╺\u001b[0m\u001b[90m━━━━━━━━━━━━━━━━━━━━━━━━━\u001b[0m \u001b[32m204.8/614.4 kB\u001b[0m \u001b[31m6.0 MB/s\u001b[0m eta \u001b[36m0:00:01\u001b[0m\r\u001b[2K     \u001b[90m━━━━━━━━━━━━━━━━━━━━━━━━━━━━━━━━━━━━━━━\u001b[0m \u001b[32m614.4/614.4 kB\u001b[0m \u001b[31m8.9 MB/s\u001b[0m eta \u001b[36m0:00:00\u001b[0m\n",
            "\u001b[?25h"
          ]
        }
      ],
      "source": [
        "!pip install ultralytics -q\n",
        "!pip install pyyaml -q"
      ]
    },
    {
      "cell_type": "code",
      "source": [
        "from ultralytics import YOLO\n",
        "import yaml\n",
        "import cv2\n",
        "from google.colab.patches import cv2_imshow\n"
      ],
      "metadata": {
        "id": "agcNkQYcZLob"
      },
      "execution_count": null,
      "outputs": []
    },
    {
      "cell_type": "code",
      "source": [
        "model = YOLO(\"yolov8n.pt\")"
      ],
      "metadata": {
        "colab": {
          "base_uri": "https://localhost:8080/"
        },
        "id": "j567CRxHZyz2",
        "outputId": "b8fa46a0-1f98-4795-8943-bc808a29e2db"
      },
      "execution_count": null,
      "outputs": [
        {
          "output_type": "stream",
          "name": "stderr",
          "text": [
            "Downloading https://github.com/ultralytics/assets/releases/download/v0.0.0/yolov8n.pt to 'yolov8n.pt'...\n",
            "100%|██████████| 6.23M/6.23M [00:00<00:00, 117MB/s]\n"
          ]
        }
      ]
    },
    {
      "cell_type": "code",
      "source": [
        "model.predict(\"/content/cat.jpg\", save=True, save_txt=True)"
      ],
      "metadata": {
        "colab": {
          "base_uri": "https://localhost:8080/"
        },
        "id": "V8RU2NEWZUr4",
        "outputId": "f4c46949-233b-4144-a9c0-c4196303a4a5"
      },
      "execution_count": null,
      "outputs": [
        {
          "output_type": "stream",
          "name": "stderr",
          "text": [
            "\n",
            "image 1/1 /content/cat.jpg: 480x640 1 cat, 66.5ms\n",
            "Speed: 16.2ms preprocess, 66.5ms inference, 38.1ms postprocess per image at shape (1, 3, 480, 640)\n",
            "Results saved to \u001b[1mruns/detect/predict\u001b[0m\n",
            "1 label saved to runs/detect/predict/labels\n"
          ]
        },
        {
          "output_type": "execute_result",
          "data": {
            "text/plain": [
              "[ultralytics.engine.results.Results object with attributes:\n",
              " \n",
              " boxes: ultralytics.engine.results.Boxes object\n",
              " keypoints: None\n",
              " keys: ['boxes']\n",
              " masks: None\n",
              " names: {0: 'person', 1: 'bicycle', 2: 'car', 3: 'motorcycle', 4: 'airplane', 5: 'bus', 6: 'train', 7: 'truck', 8: 'boat', 9: 'traffic light', 10: 'fire hydrant', 11: 'stop sign', 12: 'parking meter', 13: 'bench', 14: 'bird', 15: 'cat', 16: 'dog', 17: 'horse', 18: 'sheep', 19: 'cow', 20: 'elephant', 21: 'bear', 22: 'zebra', 23: 'giraffe', 24: 'backpack', 25: 'umbrella', 26: 'handbag', 27: 'tie', 28: 'suitcase', 29: 'frisbee', 30: 'skis', 31: 'snowboard', 32: 'sports ball', 33: 'kite', 34: 'baseball bat', 35: 'baseball glove', 36: 'skateboard', 37: 'surfboard', 38: 'tennis racket', 39: 'bottle', 40: 'wine glass', 41: 'cup', 42: 'fork', 43: 'knife', 44: 'spoon', 45: 'bowl', 46: 'banana', 47: 'apple', 48: 'sandwich', 49: 'orange', 50: 'broccoli', 51: 'carrot', 52: 'hot dog', 53: 'pizza', 54: 'donut', 55: 'cake', 56: 'chair', 57: 'couch', 58: 'potted plant', 59: 'bed', 60: 'dining table', 61: 'toilet', 62: 'tv', 63: 'laptop', 64: 'mouse', 65: 'remote', 66: 'keyboard', 67: 'cell phone', 68: 'microwave', 69: 'oven', 70: 'toaster', 71: 'sink', 72: 'refrigerator', 73: 'book', 74: 'clock', 75: 'vase', 76: 'scissors', 77: 'teddy bear', 78: 'hair drier', 79: 'toothbrush'}\n",
              " orig_img: array([[[ 49,  57,  26],\n",
              "         [ 50,  58,  27],\n",
              "         [ 47,  55,  25],\n",
              "         ...,\n",
              "         [ 30,  77,  45],\n",
              "         [ 36,  87,  50],\n",
              "         [ 45,  94,  56]],\n",
              " \n",
              "        [[ 51,  57,  26],\n",
              "         [ 52,  58,  27],\n",
              "         [ 48,  56,  25],\n",
              "         ...,\n",
              "         [ 32,  82,  50],\n",
              "         [ 37,  89,  52],\n",
              "         [ 45,  96,  58]],\n",
              " \n",
              "        [[ 51,  57,  26],\n",
              "         [ 51,  57,  26],\n",
              "         [ 49,  57,  26],\n",
              "         ...,\n",
              "         [ 27,  88,  52],\n",
              "         [ 35,  95,  55],\n",
              "         [ 42,  99,  60]],\n",
              " \n",
              "        ...,\n",
              " \n",
              "        [[ 15,  47,  36],\n",
              "         [ 13,  46,  32],\n",
              "         [ 13,  47,  36],\n",
              "         ...,\n",
              "         [156, 173, 182],\n",
              "         [162, 179, 188],\n",
              "         [164, 181, 190]],\n",
              " \n",
              "        [[ 19,  53,  42],\n",
              "         [ 20,  56,  42],\n",
              "         [ 22,  58,  44],\n",
              "         ...,\n",
              "         [167, 184, 193],\n",
              "         [158, 175, 184],\n",
              "         [167, 184, 193]],\n",
              " \n",
              "        [[ 25,  62,  46],\n",
              "         [ 25,  64,  49],\n",
              "         [ 27,  66,  51],\n",
              "         ...,\n",
              "         [188, 205, 214],\n",
              "         [157, 174, 183],\n",
              "         [158, 175, 184]]], dtype=uint8)\n",
              " orig_shape: (360, 480)\n",
              " path: '/content/cat.jpg'\n",
              " probs: None\n",
              " save_dir: 'runs/detect/predict'\n",
              " speed: {'preprocess': 16.206026077270508, 'inference': 66.4834976196289, 'postprocess': 38.065195083618164}]"
            ]
          },
          "metadata": {},
          "execution_count": 5
        }
      ]
    }
  ]
}